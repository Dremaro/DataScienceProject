{
 "cells": [
  {
   "cell_type": "markdown",
   "metadata": {
    "toc": true
   },
   "source": [
    "<h1>Table of Contents<span class=\"tocSkip\"></span></h1>\n",
    "<div class=\"toc\"><ul class=\"toc-item\"><li><span><a href=\"#Segment-the-nucleis\" data-toc-modified-id=\"Segment-the-nucleis-1\"><span class=\"toc-item-num\">1&nbsp;&nbsp;</span>Segment the nucleis</a></span></li><li><span><a href=\"#Segment-cells\" data-toc-modified-id=\"Segment-cells-2\"><span class=\"toc-item-num\">2&nbsp;&nbsp;</span>Segment cells</a></span></li></ul></div>"
   ]
  },
  {
   "cell_type": "code",
   "execution_count": 1,
   "metadata": {},
   "outputs": [
    {
     "ename": "ModuleNotFoundError",
     "evalue": "No module named 'omero'",
     "output_type": "error",
     "traceback": [
      "\u001b[1;31m---------------------------------------------------------------------------\u001b[0m",
      "\u001b[1;31mModuleNotFoundError\u001b[0m                       Traceback (most recent call last)",
      "Cell \u001b[1;32mIn[1], line 3\u001b[0m\n\u001b[0;32m      1\u001b[0m \u001b[38;5;28;01mimport\u001b[39;00m \u001b[38;5;21;01mre\u001b[39;00m\n\u001b[0;32m      2\u001b[0m \u001b[38;5;28;01mimport\u001b[39;00m \u001b[38;5;21;01mrandom\u001b[39;00m\n\u001b[1;32m----> 3\u001b[0m \u001b[38;5;28;01mimport\u001b[39;00m \u001b[38;5;21;01momero\u001b[39;00m\n\u001b[0;32m      4\u001b[0m \u001b[38;5;28;01mfrom\u001b[39;00m \u001b[38;5;21;01mpandas\u001b[39;00m \u001b[38;5;28;01mimport\u001b[39;00m DataFrame, merge,concat\n\u001b[0;32m      5\u001b[0m \u001b[38;5;28;01mimport\u001b[39;00m \u001b[38;5;21;01mnumpy\u001b[39;00m \u001b[38;5;28;01mas\u001b[39;00m \u001b[38;5;21;01mnp\u001b[39;00m\n",
      "\u001b[1;31mModuleNotFoundError\u001b[0m: No module named 'omero'"
     ]
    }
   ],
   "source": [
    "import re\n",
    "import random\n",
    "import omero\n",
    "from pandas import DataFrame, merge,concat\n",
    "import numpy as np\n",
    "\n",
    "from skimage import segmentation,filters,morphology,measure,feature\n",
    "from skimage.color import label2rgb\n",
    "from scipy.ndimage.morphology import binary_fill_holes, binary_closing\n",
    "from skimage.util import img_as_ubyte,img_as_float\n",
    "from skimage.exposure import rescale_intensity\n",
    "\n",
    "from scipy.stats import kurtosis, skew\n",
    "\n",
    "import omero\n",
    "from omero.gateway import BlitzGateway\n",
    "\n",
    "import matplotlib.pyplot as plt\n",
    "plt.set_cmap('gray')\n"
   ]
  },
  {
   "cell_type": "code",
   "execution_count": 2,
   "metadata": {},
   "outputs": [],
   "source": [
    "# Connect to the server\n",
    "def connect(hostname, username, password):\n",
    "    conn = BlitzGateway(username, password,\n",
    "                        host=hostname, secure=True)\n",
    "    print(\"Connected: %s\" % conn.connect())\n",
    "    conn.c.enableKeepAlive(60)\n",
    "    return conn\n"
   ]
  },
  {
   "cell_type": "code",
   "execution_count": null,
   "metadata": {},
   "outputs": [
    {
     "ename": "",
     "evalue": "",
     "output_type": "error",
     "traceback": [
      "\u001b[1;31mRunning cells with 'c:\\Users\\pc1\\AppData\\Local\\Microsoft\\WindowsApps\\python3.11.exe' requires the ipykernel package.\n",
      "\u001b[1;31mRun the following command to install 'ipykernel' into the Python environment. \n",
      "\u001b[1;31mCommand: 'c:/Users/pc1/AppData/Local/Microsoft/WindowsApps/python3.11.exe -m pip install ipykernel -U --user --force-reinstall'"
     ]
    }
   ],
   "source": [
    "def getBulkAnnotationAsDf(screenID, conn):\n",
    "    ofId = None\n",
    "    sc = conn.getObject('Screen', screenID)\n",
    "    for ann in sc.listAnnotations():\n",
    "        if isinstance(ann, omero.gateway.FileAnnotationWrapper):\n",
    "            if (ann.getFile().getName() == 'bulk_annotations'):\n",
    "                if (ann.getFile().getSize()> 1476250900): #about 140Mb?\n",
    "                    print(\"that's a big file...\")\n",
    "                    return None\n",
    "                ofId = ann.getFile().getId()\n",
    "                break\n",
    "\n",
    "    if ofId is None:\n",
    "        return None\n",
    "\n",
    "    original_file = omero.model.OriginalFileI(ofId, False)\n",
    "\n",
    "    table = conn.c.sf.sharedResources().openTable(original_file)\n",
    "    count = 0\n",
    "    try:\n",
    "        rowCount = table.getNumberOfRows()\n",
    "\n",
    "        column_names = []\n",
    "        pattern = re.compile(\"Phenotype \\d+$\")\n",
    "        for col in table.getHeaders():\n",
    "            column_names.append(col.name)\n",
    "            if pattern.match(col.name) is not None:\n",
    "                count = count + 1\n",
    "\n",
    "        black_list = []\n",
    "        column_indices = []\n",
    "        for column_name in column_names:\n",
    "            if column_name in black_list:\n",
    "                continue\n",
    "            column_indices.append(column_names.index(column_name))\n",
    "\n",
    "        table_data = table.slice(column_indices, None)\n",
    "    finally:\n",
    "        table.close()\n",
    "\n",
    "    data = []\n",
    "    for index in range(rowCount):\n",
    "        row_values = [column.values[index] for column in table_data.columns]\n",
    "        data.append(row_values)\n",
    "\n",
    "    dfAnn = DataFrame(data)\n",
    "    dfAnn.columns = column_names\n",
    "    return dfAnn, count\n",
    "\n",
    "def getOneImage(conn,weid,pos=None):\n",
    "    we = conn.getObject('Well',weid)\n",
    "    if pos==None:\n",
    "        pos=random.choice(range(we.countWellSample()))  # one random field of that well\n",
    "        \n",
    "    im = we.getImage(pos)   \n",
    "    pix = im.getPrimaryPixels()\n",
    "    I1=pix.getPlane(0,0,0)\n",
    "    I2=pix.getPlane(0,1,0)\n",
    "    I3=pix.getPlane(0,2,0)\n",
    "    I4=pix.getPlane(0,3,0)\n",
    "    I5=pix.getPlane(0,4,0)\n",
    "    I=np.stack([I1,I2,I3,I4,I5],2)\n",
    "    return I\n"
   ]
  },
  {
   "cell_type": "code",
   "execution_count": null,
   "metadata": {},
   "outputs": [
    {
     "ename": "",
     "evalue": "",
     "output_type": "error",
     "traceback": [
      "\u001b[1;31mRunning cells with 'c:\\Users\\pc1\\AppData\\Local\\Microsoft\\WindowsApps\\python3.11.exe' requires the ipykernel package.\n",
      "\u001b[1;31mRun the following command to install 'ipykernel' into the Python environment. \n",
      "\u001b[1;31mCommand: 'c:/Users/pc1/AppData/Local/Microsoft/WindowsApps/python3.11.exe -m pip install ipykernel -U --user --force-reinstall'"
     ]
    }
   ],
   "source": [
    "host = \"ws://idr.openmicroscopy.org/omero-ws\"\n",
    "username = \"public\"\n",
    "password = \"public\"\n",
    "screenId = 1751 #idr0033-rohban-pathways/screenA\n",
    "\n",
    "# Connect to the server\n",
    "conn = connect(host, username, password)\n",
    "\n",
    "# Downloading the annotation file for the whole screen\n",
    "# as a panda DataFrame\n",
    "dfAnn, phenotype_count = getBulkAnnotationAsDf(screenId, conn)\n"
   ]
  },
  {
   "cell_type": "code",
   "execution_count": null,
   "metadata": {},
   "outputs": [
    {
     "ename": "",
     "evalue": "",
     "output_type": "error",
     "traceback": [
      "\u001b[1;31mRunning cells with 'c:\\Users\\pc1\\AppData\\Local\\Microsoft\\WindowsApps\\python3.11.exe' requires the ipykernel package.\n",
      "\u001b[1;31mRun the following command to install 'ipykernel' into the Python environment. \n",
      "\u001b[1;31mCommand: 'c:/Users/pc1/AppData/Local/Microsoft/WindowsApps/python3.11.exe -m pip install ipykernel -U --user --force-reinstall'"
     ]
    }
   ],
   "source": [
    "\n",
    "weid=dfAnn[dfAnn['Control Type']=='negative control'].sample()['Well'].values\n",
    "I=getOneImage(conn,weid)\n"
   ]
  },
  {
   "cell_type": "code",
   "execution_count": null,
   "metadata": {},
   "outputs": [
    {
     "ename": "",
     "evalue": "",
     "output_type": "error",
     "traceback": [
      "\u001b[1;31mRunning cells with 'c:\\Users\\pc1\\AppData\\Local\\Microsoft\\WindowsApps\\python3.11.exe' requires the ipykernel package.\n",
      "\u001b[1;31mRun the following command to install 'ipykernel' into the Python environment. \n",
      "\u001b[1;31mCommand: 'c:/Users/pc1/AppData/Local/Microsoft/WindowsApps/python3.11.exe -m pip install ipykernel -U --user --force-reinstall'"
     ]
    }
   ],
   "source": [
    "zoomx=[100,500]\n",
    "zoomy=[100,500]\n",
    "fig,ax=plt.subplots(1,5,figsize=(30,10))\n",
    "ax[0].imshow(I[:,:,0][zoomx[0]:zoomx[1],zoomy[0]:zoomy[1]])\n",
    "ax[1].imshow(I[:,:,1][zoomx[0]:zoomx[1],zoomy[0]:zoomy[1]])\n",
    "ax[2].imshow(I[:,:,2][zoomx[0]:zoomx[1],zoomy[0]:zoomy[1]])\n",
    "ax[3].imshow(I[:,:,3][zoomx[0]:zoomx[1],zoomy[0]:zoomy[1]])\n",
    "ax[4].imshow(I[:,:,4][zoomx[0]:zoomx[1],zoomy[0]:zoomy[1]])\n",
    "\n",
    "for x in ax.ravel():\n",
    "    x.axis(\"off\")"
   ]
  },
  {
   "cell_type": "code",
   "execution_count": null,
   "metadata": {},
   "outputs": [
    {
     "ename": "",
     "evalue": "",
     "output_type": "error",
     "traceback": [
      "\u001b[1;31mRunning cells with 'c:\\Users\\pc1\\AppData\\Local\\Microsoft\\WindowsApps\\python3.11.exe' requires the ipykernel package.\n",
      "\u001b[1;31mRun the following command to install 'ipykernel' into the Python environment. \n",
      "\u001b[1;31mCommand: 'c:/Users/pc1/AppData/Local/Microsoft/WindowsApps/python3.11.exe -m pip install ipykernel -U --user --force-reinstall'"
     ]
    }
   ],
   "source": [
    "I[:,:,0]"
   ]
  },
  {
   "cell_type": "markdown",
   "metadata": {},
   "source": [
    "## Segment the nucleis\n",
    "\n",
    "1. Starting from the DAPI image (the first, index 0), buils a binary image with nucleis only.\n",
    "\n",
    "2. Use skimage.measure.label and skimage.measure.regionprops to extract a data frame of nucleis objects with preliminary geometric measurement. Use simple manual threshold to remove outliers objects.\n"
   ]
  },
  {
   "cell_type": "code",
   "execution_count": null,
   "metadata": {},
   "outputs": [
    {
     "ename": "",
     "evalue": "",
     "output_type": "error",
     "traceback": [
      "\u001b[1;31mRunning cells with 'c:\\Users\\pc1\\AppData\\Local\\Microsoft\\WindowsApps\\python3.11.exe' requires the ipykernel package.\n",
      "\u001b[1;31mRun the following command to install 'ipykernel' into the Python environment. \n",
      "\u001b[1;31mCommand: 'c:/Users/pc1/AppData/Local/Microsoft/WindowsApps/python3.11.exe -m pip install ipykernel -U --user --force-reinstall'"
     ]
    }
   ],
   "source": [
    "#initial seg: plain thresholding of dapi channel\n",
    "otsu=filters.threshold_otsu(I[:,:,0])\n",
    "dapiSeg=measure.label(I[:,:,0]>otsu)\n",
    "\n",
    "plt.figure(figsize=(15,15))\n",
    "plt.imshow(dapiSeg)"
   ]
  },
  {
   "cell_type": "code",
   "execution_count": null,
   "metadata": {},
   "outputs": [
    {
     "ename": "",
     "evalue": "",
     "output_type": "error",
     "traceback": [
      "\u001b[1;31mRunning cells with 'c:\\Users\\pc1\\AppData\\Local\\Microsoft\\WindowsApps\\python3.11.exe' requires the ipykernel package.\n",
      "\u001b[1;31mRun the following command to install 'ipykernel' into the Python environment. \n",
      "\u001b[1;31mCommand: 'c:/Users/pc1/AppData/Local/Microsoft/WindowsApps/python3.11.exe -m pip install ipykernel -U --user --force-reinstall'"
     ]
    }
   ],
   "source": [
    "rp=measure.regionprops_table(dapiSeg,properties=('label', 'bbox','area','moments_hu','centroid','bbox'))\n",
    "nucs=DataFrame(rp)"
   ]
  },
  {
   "cell_type": "code",
   "execution_count": null,
   "metadata": {},
   "outputs": [
    {
     "ename": "",
     "evalue": "",
     "output_type": "error",
     "traceback": [
      "\u001b[1;31mRunning cells with 'c:\\Users\\pc1\\AppData\\Local\\Microsoft\\WindowsApps\\python3.11.exe' requires the ipykernel package.\n",
      "\u001b[1;31mRun the following command to install 'ipykernel' into the Python environment. \n",
      "\u001b[1;31mCommand: 'c:/Users/pc1/AppData/Local/Microsoft/WindowsApps/python3.11.exe -m pip install ipykernel -U --user --force-reinstall'"
     ]
    }
   ],
   "source": [
    "nucs.head()"
   ]
  },
  {
   "cell_type": "raw",
   "metadata": {},
   "source": [
    "rp=measure.regionprops(dapiSeg)\n",
    "\n",
    "#Also measure.regionprops_table()\n",
    "\n",
    "label=[]\n",
    "bbox=[]\n",
    "center=[]\n",
    "area=[]\n",
    "eccentricity=[]\n",
    "equivalent_diameter=[]\n",
    "moments_hu=[]\n",
    "perimeter=[]\n",
    "solidity=[]\n",
    "for r in rp:\n",
    "    try:\n",
    "        label.append(r.label)\n",
    "        bbox.append(r.bbox)\n",
    "        center.append(r.centroid)\n",
    "        area.append(r.area)\n",
    "        eccentricity.append(r.eccentricity)\n",
    "        equivalent_diameter.append(r.equivalent_diameter)\n",
    "        moments_hu.append(r.moments_hu)\n",
    "        perimeter.append(r.perimeter)\n",
    "        solidity.append(r.solidity)\n",
    "    except:\n",
    "        print('whut')\n",
    "        continue\n",
    "\n",
    "nucs=DataFrame({'labels':label,'nucleus_bbox':bbox,'nucleus_center':center,'nucleus_area':area,'nucleus_eccentricity':eccentricity,'nucleus_equivalent_diameter':equivalent_diameter,'nucleus_moments_hu':moments_hu,'nucleus_perimeter':perimeter,'nucleus_solidity':solidity})\n"
   ]
  },
  {
   "cell_type": "code",
   "execution_count": null,
   "metadata": {},
   "outputs": [
    {
     "ename": "",
     "evalue": "",
     "output_type": "error",
     "traceback": [
      "\u001b[1;31mRunning cells with 'c:\\Users\\pc1\\AppData\\Local\\Microsoft\\WindowsApps\\python3.11.exe' requires the ipykernel package.\n",
      "\u001b[1;31mRun the following command to install 'ipykernel' into the Python environment. \n",
      "\u001b[1;31mCommand: 'c:/Users/pc1/AppData/Local/Microsoft/WindowsApps/python3.11.exe -m pip install ipykernel -U --user --force-reinstall'"
     ]
    }
   ],
   "source": [
    "nucs.area.hist()"
   ]
  },
  {
   "cell_type": "code",
   "execution_count": null,
   "metadata": {},
   "outputs": [
    {
     "ename": "",
     "evalue": "",
     "output_type": "error",
     "traceback": [
      "\u001b[1;31mRunning cells with 'c:\\Users\\pc1\\AppData\\Local\\Microsoft\\WindowsApps\\python3.11.exe' requires the ipykernel package.\n",
      "\u001b[1;31mRun the following command to install 'ipykernel' into the Python environment. \n",
      "\u001b[1;31mCommand: 'c:/Users/pc1/AppData/Local/Microsoft/WindowsApps/python3.11.exe -m pip install ipykernel -U --user --force-reinstall'"
     ]
    }
   ],
   "source": [
    "nucs=nucs[nucs.area>400]"
   ]
  },
  {
   "cell_type": "code",
   "execution_count": null,
   "metadata": {},
   "outputs": [
    {
     "ename": "",
     "evalue": "",
     "output_type": "error",
     "traceback": [
      "\u001b[1;31mRunning cells with 'c:\\Users\\pc1\\AppData\\Local\\Microsoft\\WindowsApps\\python3.11.exe' requires the ipykernel package.\n",
      "\u001b[1;31mRun the following command to install 'ipykernel' into the Python environment. \n",
      "\u001b[1;31mCommand: 'c:/Users/pc1/AppData/Local/Microsoft/WindowsApps/python3.11.exe -m pip install ipykernel -U --user --force-reinstall'"
     ]
    }
   ],
   "source": [
    "dfAnn['Channels'][0]\n"
   ]
  },
  {
   "cell_type": "code",
   "execution_count": null,
   "metadata": {},
   "outputs": [
    {
     "ename": "",
     "evalue": "",
     "output_type": "error",
     "traceback": [
      "\u001b[1;31mRunning cells with 'c:\\Users\\pc1\\AppData\\Local\\Microsoft\\WindowsApps\\python3.11.exe' requires the ipykernel package.\n",
      "\u001b[1;31mRun the following command to install 'ipykernel' into the Python environment. \n",
      "\u001b[1;31mCommand: 'c:/Users/pc1/AppData/Local/Microsoft/WindowsApps/python3.11.exe -m pip install ipykernel -U --user --force-reinstall'"
     ]
    }
   ],
   "source": [
    "nrow=np.random.choice(len(nucs))\n",
    "bb=nucs[['bbox-0','bbox-1','bbox-2','bbox-3']].iloc[nrow]\n",
    "            \n",
    "fig, axes = plt.subplots(1, 5,figsize=(18, 3))\n",
    "axes[0].imshow(I[bb[0]:bb[2],bb[1]:bb[3],0])\n",
    "axes[1].imshow(I[bb[0]:bb[2],bb[1]:bb[3],1])\n",
    "axes[2].imshow(I[bb[0]:bb[2],bb[1]:bb[3],2])\n",
    "axes[3].imshow(I[bb[0]:bb[2],bb[1]:bb[3],3])\n",
    "axes[4].imshow(I[bb[0]:bb[2],bb[1]:bb[3],4])\n",
    "\n",
    "for x in axes.ravel():\n",
    "    x.axis(\"off\")"
   ]
  },
  {
   "cell_type": "markdown",
   "metadata": {},
   "source": [
    "\n",
    "## Segment cells\n",
    "\n",
    "3. Similarly, try to segment the cell body using the third channel (index 2)\n",
    "\n",
    "3. With nucleis as seed, use the watershed segmentation algorithm (skimage.morphology.watershed) to segment single cells. (use the 'mask' option.)\n",
    "\n",
    "4. Again use regionprops to extract objects and geometric features and clean them.\n",
    "\n",
    "3. use skimage.segmentation.clear_border to remove object touching the border\n",
    "\n",
    "4. Manually look at segmented objects for selected phenotypes to check that the segmentation is robust.\n",
    "\n"
   ]
  },
  {
   "cell_type": "code",
   "execution_count": null,
   "metadata": {},
   "outputs": [
    {
     "ename": "",
     "evalue": "",
     "output_type": "error",
     "traceback": [
      "\u001b[1;31mRunning cells with 'c:\\Users\\pc1\\AppData\\Local\\Microsoft\\WindowsApps\\python3.11.exe' requires the ipykernel package.\n",
      "\u001b[1;31mRun the following command to install 'ipykernel' into the Python environment. \n",
      "\u001b[1;31mCommand: 'c:/Users/pc1/AppData/Local/Microsoft/WindowsApps/python3.11.exe -m pip install ipykernel -U --user --force-reinstall'"
     ]
    }
   ],
   "source": [
    "\n",
    "amaskRaw=I[:,:,2]> filters.threshold_otsu(I[:,:,2])\n",
    "amask=morphology.closing(binary_fill_holes(I[:,:,2]> filters.threshold_otsu(I[:,:,2])), morphology.square(3))\n",
    "\n",
    "plt.figure(figsize=(15,15))\n",
    "plt.imshow(amaskRaw)\n",
    "plt.figure(figsize=(15,15))\n",
    "plt.imshow(amask)\n"
   ]
  },
  {
   "cell_type": "code",
   "execution_count": null,
   "metadata": {},
   "outputs": [
    {
     "ename": "",
     "evalue": "",
     "output_type": "error",
     "traceback": [
      "\u001b[1;31mRunning cells with 'c:\\Users\\pc1\\AppData\\Local\\Microsoft\\WindowsApps\\python3.11.exe' requires the ipykernel package.\n",
      "\u001b[1;31mRun the following command to install 'ipykernel' into the Python environment. \n",
      "\u001b[1;31mCommand: 'c:/Users/pc1/AppData/Local/Microsoft/WindowsApps/python3.11.exe -m pip install ipykernel -U --user --force-reinstall'"
     ]
    }
   ],
   "source": [
    "\n",
    "#watershed of channel 2 for cell outline, seeds as dapi centers\n",
    "markers=np.zeros(I.shape[0:2])\n",
    "for i,r in nucs.iterrows():\n",
    "    markers[int(r['centroid-0']),int(r['centroid-1'])]=r.label\n",
    "\n",
    "seg=segmentation.watershed(-I[:,:,2],markers=markers,mask=amask)\n",
    "\n",
    "seg_visu=label2rgb(seg,image=I[:,:,2])\n",
    "\n",
    "\n",
    "\n",
    "plt.figure(figsize=(15,15))\n",
    "plt.imshow(seg)\n",
    "\n",
    "plt.figure(figsize=(15,15))\n",
    "plt.imshow(seg_visu)\n"
   ]
  },
  {
   "cell_type": "code",
   "execution_count": null,
   "metadata": {},
   "outputs": [
    {
     "ename": "",
     "evalue": "",
     "output_type": "error",
     "traceback": [
      "\u001b[1;31mRunning cells with 'c:\\Users\\pc1\\AppData\\Local\\Microsoft\\WindowsApps\\python3.11.exe' requires the ipykernel package.\n",
      "\u001b[1;31mRun the following command to install 'ipykernel' into the Python environment. \n",
      "\u001b[1;31mCommand: 'c:/Users/pc1/AppData/Local/Microsoft/WindowsApps/python3.11.exe -m pip install ipykernel -U --user --force-reinstall'"
     ]
    }
   ],
   "source": [
    "\n",
    "#cytoSegTouchesBorders=seg-segmentation.clear_border(seg,buffer_size=3) #watershed add a border of 3\n",
    "#cytoSegTouchesBorders=np.unique(cytoSegTouchesBorders[cytoSegTouchesBorders>0]-1) #row in df is zero based\n",
    "\n",
    "rp2=measure.regionprops(seg, coordinates='rc')\n",
    "label=[]\n",
    "bbox=[]\n",
    "center=[]\n",
    "area=[]\n",
    "eccentricity=[]\n",
    "equivalent_diameter=[]\n",
    "moments_hu=[]\n",
    "perimeter=[]\n",
    "solidity=[]\n",
    "for r in rp2:\n",
    "    try:\n",
    "        label.append(r.label)\n",
    "        bbox.append(r.bbox)\n",
    "        center.append(r.centroid)\n",
    "        area.append(r.area)\n",
    "        eccentricity.append(r.eccentricity)\n",
    "        equivalent_diameter.append(r.equivalent_diameter)\n",
    "        moments_hu.append(r.moments_hu)\n",
    "        perimeter.append(r.perimeter)\n",
    "        solidity.append(r.solidity)\n",
    "    except:\n",
    "        print('whut')\n",
    "        continue\n",
    "\n",
    "cells=DataFrame({'label':label,'cell_bbox':bbox,'cell_center':center,'cell_area':area,'cell_eccentricity':eccentricity,'cell_equivalent_diameter':equivalent_diameter,'cell_moments_hu':moments_hu,'cell_perimeter':perimeter,'cell_solidity':solidity})\n",
    "dfCells=merge(nucs,cells,how='outer',on='label')\n",
    "\n",
    "dfCells.set_index('label',inplace=True)\n",
    "\n",
    "#dfCells.drop(cytoSegTouchesBorders,inplace=True)\n",
    "\n",
    "\n"
   ]
  },
  {
   "cell_type": "code",
   "execution_count": null,
   "metadata": {},
   "outputs": [
    {
     "ename": "",
     "evalue": "",
     "output_type": "error",
     "traceback": [
      "\u001b[1;31mRunning cells with 'c:\\Users\\pc1\\AppData\\Local\\Microsoft\\WindowsApps\\python3.11.exe' requires the ipykernel package.\n",
      "\u001b[1;31mRun the following command to install 'ipykernel' into the Python environment. \n",
      "\u001b[1;31mCommand: 'c:/Users/pc1/AppData/Local/Microsoft/WindowsApps/python3.11.exe -m pip install ipykernel -U --user --force-reinstall'"
     ]
    }
   ],
   "source": [
    "nrow=np.random.choice(len(dfCells))\n",
    "bb=dfCells.cell_bbox.iloc[nrow]\n",
    "            \n",
    "fig, axes = plt.subplots(1, 5,figsize=(18, 3))\n",
    "axes[0].imshow(I[bb[0]:bb[2],bb[1]:bb[3],0])\n",
    "axes[1].imshow(I[bb[0]:bb[2],bb[1]:bb[3],1])\n",
    "axes[2].imshow(I[bb[0]:bb[2],bb[1]:bb[3],2])\n",
    "axes[3].imshow(I[bb[0]:bb[2],bb[1]:bb[3],3])\n",
    "axes[4].imshow(I[bb[0]:bb[2],bb[1]:bb[3],4])\n",
    "\n",
    "for x in axes.ravel():\n",
    "    x.axis(\"off\")\n"
   ]
  },
  {
   "cell_type": "code",
   "execution_count": null,
   "metadata": {},
   "outputs": [
    {
     "ename": "",
     "evalue": "",
     "output_type": "error",
     "traceback": [
      "\u001b[1;31mRunning cells with 'c:\\Users\\pc1\\AppData\\Local\\Microsoft\\WindowsApps\\python3.11.exe' requires the ipykernel package.\n",
      "\u001b[1;31mRun the following command to install 'ipykernel' into the Python environment. \n",
      "\u001b[1;31mCommand: 'c:/Users/pc1/AppData/Local/Microsoft/WindowsApps/python3.11.exe -m pip install ipykernel -U --user --force-reinstall'"
     ]
    }
   ],
   "source": [
    "\n",
    "def segImage(I,param={}):\n",
    "    #initial seg: plain thresholding of dapi channel\n",
    "    otsu=filters.threshold_otsu(I[:,:,0])\n",
    "    dapiSeg=measure.label(I[:,:,0]>otsu)\n",
    "\n",
    "    dapiSegTouchesBorders=dapiSeg-segmentation.clear_border(dapiSeg)\n",
    "    dapiSegTouchesBorders=np.unique(dapiSegTouchesBorders.flatten())\n",
    "    #rp=skimes.regionprops(segmentation.clear_border(skimes.label(I[:,:,0]>otsu)))\n",
    "    rp=measure.regionprops(dapiSeg, coordinates='rc') #better removing them latter?\n",
    "    label=[]\n",
    "    bbox=[]\n",
    "    center=[]\n",
    "    area=[]\n",
    "    eccentricity=[]\n",
    "    equivalent_diameter=[]\n",
    "    moments_hu=[]\n",
    "    perimeter=[]\n",
    "    solidity=[]\n",
    "    for r in rp:\n",
    "        try:\n",
    "            label.append(r.label)\n",
    "            bbox.append(r.bbox)\n",
    "            center.append(r.centroid)\n",
    "            area.append(r.area)\n",
    "            eccentricity.append(r.eccentricity)\n",
    "            equivalent_diameter.append(r.equivalent_diameter)\n",
    "            moments_hu.append(r.moments_hu)\n",
    "            perimeter.append(r.perimeter)\n",
    "            solidity.append(r.solidity)\n",
    "        except:\n",
    "            print('whut')\n",
    "            continue\n",
    "\n",
    "    nucs=DataFrame({'labels':label,'nucleus_bbox':bbox,'nucleus_center':center,'nucleus_area':area,'nucleus_eccentricity':eccentricity,'nucleus_equivalent_diameter':equivalent_diameter,'nucleus_moments_hu':moments_hu,'nucleus_perimeter':perimeter,'nucleus_solidity':solidity})\n",
    "\n",
    "\n",
    "    #watershed of channel 2 for cell outline, seeds as dapi centers\n",
    "    markers=np.zeros(I.shape[0:2])\n",
    "    for i,r in nucs.iterrows():\n",
    "        markers[int(r.nucleus_center[0]),int(r.nucleus_center[1])]=r.labels\n",
    "\n",
    "    amask=binary_closing(binary_fill_holes(I[:,:,2]> filters.threshold_otsu(I[:,:,2])),iterations=3)\n",
    "    seg=segmentation.watershed(-I[:,:,2],markers=markers,mask=amask)\n",
    "\n",
    "    cytoSegTouchesBorders=seg-segmentation.clear_border(seg,buffer_size=3) #watershed add a border of 3\n",
    "    cytoSegTouchesBorders=np.unique(cytoSegTouchesBorders[cytoSegTouchesBorders>0]-1) #row in df is zero based\n",
    "\n",
    "    rp2=measure.regionprops(seg, coordinates='rc')\n",
    "    label=[]\n",
    "    bbox=[]\n",
    "    center=[]\n",
    "    area=[]\n",
    "    eccentricity=[]\n",
    "    equivalent_diameter=[]\n",
    "    moments_hu=[]\n",
    "    perimeter=[]\n",
    "    solidity=[]\n",
    "    for r in rp2:\n",
    "        try:\n",
    "            label.append(r.label)\n",
    "            bbox.append(r.bbox)\n",
    "            center.append(r.centroid)\n",
    "            area.append(r.area)\n",
    "            eccentricity.append(r.eccentricity)\n",
    "            equivalent_diameter.append(r.equivalent_diameter)\n",
    "            moments_hu.append(r.moments_hu)\n",
    "            perimeter.append(r.perimeter)\n",
    "            solidity.append(r.solidity)\n",
    "        except:\n",
    "            print('whut')\n",
    "            continue\n",
    "\n",
    "    cells=DataFrame({'labels':label,'cell_bbox':bbox,'cell_center':center,'cell_area':area,'cell_eccentricity':eccentricity,'cell_equivalent_diameter':equivalent_diameter,'cell_moments_hu':moments_hu,'cell_perimeter':perimeter,'cell_solidity':solidity})\n",
    "\n",
    "    dfCells=merge(nucs,cells,how='outer',on='labels')\n",
    "    dfCells.drop(cytoSegTouchesBorders,inplace=True)\n",
    "    \n",
    "    seg_visu=label2rgb(segmentation.clear_border(seg,buffer_size=3),image=I[:,:,2])\n",
    "\n",
    "    return dfCells,seg,seg_visu\n"
   ]
  },
  {
   "cell_type": "code",
   "execution_count": null,
   "metadata": {
    "scrolled": true
   },
   "outputs": [
    {
     "ename": "",
     "evalue": "",
     "output_type": "error",
     "traceback": [
      "\u001b[1;31mRunning cells with 'c:\\Users\\pc1\\AppData\\Local\\Microsoft\\WindowsApps\\python3.11.exe' requires the ipykernel package.\n",
      "\u001b[1;31mRun the following command to install 'ipykernel' into the Python environment. \n",
      "\u001b[1;31mCommand: 'c:/Users/pc1/AppData/Local/Microsoft/WindowsApps/python3.11.exe -m pip install ipykernel -U --user --force-reinstall'"
     ]
    }
   ],
   "source": [
    "aphe=np.random.choice(range(1,phenotype_count+1))\n",
    "aphe=7\n",
    "weid=dfAnn[dfAnn[u'Phenotype '+str(aphe)]!=''].sample()['Well'].values\n",
    "im=getOneImage(conn,weid)\n",
    "dfCells,seg,segVisu=segImage(I)\n",
    "\n",
    "plt.figure(figsize=(15,15))\n",
    "plt.imshow(segVisu)\n"
   ]
  },
  {
   "cell_type": "code",
   "execution_count": null,
   "metadata": {},
   "outputs": [
    {
     "ename": "",
     "evalue": "",
     "output_type": "error",
     "traceback": [
      "\u001b[1;31mRunning cells with 'c:\\Users\\pc1\\AppData\\Local\\Microsoft\\WindowsApps\\python3.11.exe' requires the ipykernel package.\n",
      "\u001b[1;31mRun the following command to install 'ipykernel' into the Python environment. \n",
      "\u001b[1;31mCommand: 'c:/Users/pc1/AppData/Local/Microsoft/WindowsApps/python3.11.exe -m pip install ipykernel -U --user --force-reinstall'"
     ]
    }
   ],
   "source": []
  }
 ],
 "metadata": {
  "kernelspec": {
   "display_name": "Python 3",
   "language": "python",
   "name": "python3"
  },
  "language_info": {
   "codemirror_mode": {
    "name": "ipython",
    "version": 3
   },
   "file_extension": ".py",
   "mimetype": "text/x-python",
   "name": "python",
   "nbconvert_exporter": "python",
   "pygments_lexer": "ipython3",
   "version": "3.11.7"
  },
  "toc": {
   "base_numbering": 1,
   "nav_menu": {},
   "number_sections": true,
   "sideBar": true,
   "skip_h1_title": true,
   "title_cell": "Table of Contents",
   "title_sidebar": "Contents",
   "toc_cell": true,
   "toc_position": {},
   "toc_section_display": true,
   "toc_window_display": false
  }
 },
 "nbformat": 4,
 "nbformat_minor": 4
}
